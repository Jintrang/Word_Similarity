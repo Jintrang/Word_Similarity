{
 "cells": [
  {
   "cell_type": "code",
   "execution_count": 1,
   "id": "8a7ef764",
   "metadata": {},
   "outputs": [],
   "source": [
    "import sklearn\n",
    "from sklearn import datasets\n",
    "import matplotlib.pyplot as plt\n",
    "from sklearn.linear_model import LogisticRegression\n",
    "from sklearn.model_selection import train_test_split\n",
    "from sklearn import metrics\n",
    "import  io\n",
    "import numpy as np\n",
    "from scipy import spatial"
   ]
  },
  {
   "cell_type": "code",
   "execution_count": 2,
   "id": "647e1eea",
   "metadata": {},
   "outputs": [
    {
     "name": "stdout",
     "output_type": "stream",
     "text": [
      "1\n"
     ]
    }
   ],
   "source": [
    "dicVect = {\"a\":[1,2]}\n",
    "f = open(\"W2V_150.txt\", \"r\", encoding='utf-8')\n",
    "print (1)\n",
    "count = 0\n",
    "for i in f:\n",
    "    if count == 0 or count == 1:\n",
    "        count +=1\n",
    "        continue\n",
    "    s=i.split()\n",
    "    u1 = s[0].strip() # word 1\n",
    "    u2 = []\n",
    "    for j in range(151):\n",
    "        if j == 0: \n",
    "            continue\n",
    "        else: u2.append(float(s[j]))\n",
    "    dicVect[u1] = u2\n",
    "    count +=1\n",
    "f.close()\n",
    "#print(len(dicVect))"
   ]
  },
  {
   "cell_type": "code",
   "execution_count": 3,
   "id": "77fe1806",
   "metadata": {},
   "outputs": [],
   "source": [
    "x = np.array([])\n",
    "y = np.array([])\n",
    "fa = open(\"Antonym_vietnamese.txt\", \"r\", encoding='utf-8')\n",
    "fs = open(\"Synonym_vietnamese.txt\", \"r\", encoding='utf-8')\n",
    "\n",
    "for i in fa:\n",
    "    arr = []\n",
    "    s = i.split()\n",
    "    if s[0] not in dicVect or s[1] not in dicVect or len(s) < 2:\n",
    "        continue\n",
    "    else:\n",
    "        u1 = dicVect.get(s[0])\n",
    "        u2 = dicVect.get(s[1])\n",
    "        arr = u1 + u2\n",
    "        x = np.append(x, arr)\n",
    "        y = np.append(y, 1)\n",
    "for i in fs:\n",
    "    arr = []\n",
    "    s=i.split()\n",
    "    if s[0] in dicVect and s[1] in dicVect and len(s) >= 2:\n",
    "        u1 = dicVect.get(s[0])\n",
    "        u2 = dicVect.get(s[1])\n",
    "        arr = u1 + u2\n",
    "        x = np.append(x, arr, axis = 0)\n",
    "        y = np.append(y, 0)\n",
    "    else:\n",
    "        continue\n",
    "x = np.reshape(x, (8004, 300))\n",
    "fa.close()\n",
    "fs.close()"
   ]
  },
  {
   "cell_type": "code",
   "execution_count": 29,
   "id": "e9a8ec81",
   "metadata": {},
   "outputs": [
    {
     "name": "stdout",
     "output_type": "stream",
     "text": [
      "(152700,)\n",
      "(250500,)\n",
      "(351900,)\n"
     ]
    }
   ],
   "source": [
    "xte = np.array([])\n",
    "yte = np.array([])\n",
    "fa = open(\"400_adj_pairs.txt\", \"r\", encoding='utf-8')\n",
    "fn = open(\"400_noun_pairs.txt\", \"r\", encoding='utf-8')\n",
    "fv = open(\"400_verb_pairs.txt\", \"r\", encoding='utf-8')\n",
    "\n",
    "for i in fa:\n",
    "    arr = []\n",
    "    s = i.split()\n",
    "    if s[0] in dicVect and s[1] in dicVect and len(s) >= 2:\n",
    "        if s[2].strip() == \"ANT\": yte = np.append(yte, 1)\n",
    "        elif s[2].strip() == \"SYN\": yte = np.append(yte, 0)\n",
    "        else: continue\n",
    "        u1 = dicVect.get(s[0].strip())\n",
    "        u2 = dicVect.get(s[1].strip())\n",
    "        arr = u1 + u2\n",
    "        xte = np.append(xte, arr)\n",
    "    else: continue\n",
    "print(xte.shape)\n",
    "for i in fn:\n",
    "    arr = []\n",
    "    s = i.split()\n",
    "    if s[0] in dicVect and s[1] in dicVect and len(s) >= 2:\n",
    "        if s[2] == \"ANT\": yte = np.append(yte, 1)\n",
    "        elif s[2] == \"SYN\": yte = np.append(yte, 0)\n",
    "        else: continue\n",
    "        u1 = dicVect.get(s[0])\n",
    "        u2 = dicVect.get(s[1])\n",
    "        arr = u1 + u2\n",
    "        xte = np.append(xte, arr)\n",
    "    else: continue\n",
    "print(xte.shape)\n",
    "for i in fv:\n",
    "    arr = []\n",
    "    s = i.split()\n",
    "    if s[0] in dicVect and s[1] in dicVect and len(s) >= 2:\n",
    "        if s[2] == \"ANT\": yte = np.append(yte, 1)\n",
    "        elif s[2] == \"SYN\": yte = np.append(yte, 0)\n",
    "        else: continue\n",
    "        u1 = dicVect.get(s[0])\n",
    "        u2 = dicVect.get(s[1])\n",
    "        arr = u1 + u2\n",
    "        xte = np.append(xte, arr)\n",
    "    else: continue\n",
    "print(xte.shape)\n",
    "xte = np.reshape(xte, (1173, 300))\n",
    "fa.close()\n",
    "fn.close()\n",
    "fv.close()\n"
   ]
  },
  {
   "cell_type": "code",
   "execution_count": 30,
   "id": "3bb557d5",
   "metadata": {},
   "outputs": [
    {
     "data": {
      "text/html": [
       "<style>#sk-container-id-2 {color: black;background-color: white;}#sk-container-id-2 pre{padding: 0;}#sk-container-id-2 div.sk-toggleable {background-color: white;}#sk-container-id-2 label.sk-toggleable__label {cursor: pointer;display: block;width: 100%;margin-bottom: 0;padding: 0.3em;box-sizing: border-box;text-align: center;}#sk-container-id-2 label.sk-toggleable__label-arrow:before {content: \"▸\";float: left;margin-right: 0.25em;color: #696969;}#sk-container-id-2 label.sk-toggleable__label-arrow:hover:before {color: black;}#sk-container-id-2 div.sk-estimator:hover label.sk-toggleable__label-arrow:before {color: black;}#sk-container-id-2 div.sk-toggleable__content {max-height: 0;max-width: 0;overflow: hidden;text-align: left;background-color: #f0f8ff;}#sk-container-id-2 div.sk-toggleable__content pre {margin: 0.2em;color: black;border-radius: 0.25em;background-color: #f0f8ff;}#sk-container-id-2 input.sk-toggleable__control:checked~div.sk-toggleable__content {max-height: 200px;max-width: 100%;overflow: auto;}#sk-container-id-2 input.sk-toggleable__control:checked~label.sk-toggleable__label-arrow:before {content: \"▾\";}#sk-container-id-2 div.sk-estimator input.sk-toggleable__control:checked~label.sk-toggleable__label {background-color: #d4ebff;}#sk-container-id-2 div.sk-label input.sk-toggleable__control:checked~label.sk-toggleable__label {background-color: #d4ebff;}#sk-container-id-2 input.sk-hidden--visually {border: 0;clip: rect(1px 1px 1px 1px);clip: rect(1px, 1px, 1px, 1px);height: 1px;margin: -1px;overflow: hidden;padding: 0;position: absolute;width: 1px;}#sk-container-id-2 div.sk-estimator {font-family: monospace;background-color: #f0f8ff;border: 1px dotted black;border-radius: 0.25em;box-sizing: border-box;margin-bottom: 0.5em;}#sk-container-id-2 div.sk-estimator:hover {background-color: #d4ebff;}#sk-container-id-2 div.sk-parallel-item::after {content: \"\";width: 100%;border-bottom: 1px solid gray;flex-grow: 1;}#sk-container-id-2 div.sk-label:hover label.sk-toggleable__label {background-color: #d4ebff;}#sk-container-id-2 div.sk-serial::before {content: \"\";position: absolute;border-left: 1px solid gray;box-sizing: border-box;top: 0;bottom: 0;left: 50%;z-index: 0;}#sk-container-id-2 div.sk-serial {display: flex;flex-direction: column;align-items: center;background-color: white;padding-right: 0.2em;padding-left: 0.2em;position: relative;}#sk-container-id-2 div.sk-item {position: relative;z-index: 1;}#sk-container-id-2 div.sk-parallel {display: flex;align-items: stretch;justify-content: center;background-color: white;position: relative;}#sk-container-id-2 div.sk-item::before, #sk-container-id-2 div.sk-parallel-item::before {content: \"\";position: absolute;border-left: 1px solid gray;box-sizing: border-box;top: 0;bottom: 0;left: 50%;z-index: -1;}#sk-container-id-2 div.sk-parallel-item {display: flex;flex-direction: column;z-index: 1;position: relative;background-color: white;}#sk-container-id-2 div.sk-parallel-item:first-child::after {align-self: flex-end;width: 50%;}#sk-container-id-2 div.sk-parallel-item:last-child::after {align-self: flex-start;width: 50%;}#sk-container-id-2 div.sk-parallel-item:only-child::after {width: 0;}#sk-container-id-2 div.sk-dashed-wrapped {border: 1px dashed gray;margin: 0 0.4em 0.5em 0.4em;box-sizing: border-box;padding-bottom: 0.4em;background-color: white;}#sk-container-id-2 div.sk-label label {font-family: monospace;font-weight: bold;display: inline-block;line-height: 1.2em;}#sk-container-id-2 div.sk-label-container {text-align: center;}#sk-container-id-2 div.sk-container {/* jupyter's `normalize.less` sets `[hidden] { display: none; }` but bootstrap.min.css set `[hidden] { display: none !important; }` so we also need the `!important` here to be able to override the default hidden behavior on the sphinx rendered scikit-learn.org. See: https://github.com/scikit-learn/scikit-learn/issues/21755 */display: inline-block !important;position: relative;}#sk-container-id-2 div.sk-text-repr-fallback {display: none;}</style><div id=\"sk-container-id-2\" class=\"sk-top-container\"><div class=\"sk-text-repr-fallback\"><pre>LogisticRegression(max_iter=10000)</pre><b>In a Jupyter environment, please rerun this cell to show the HTML representation or trust the notebook. <br />On GitHub, the HTML representation is unable to render, please try loading this page with nbviewer.org.</b></div><div class=\"sk-container\" hidden><div class=\"sk-item\"><div class=\"sk-estimator sk-toggleable\"><input class=\"sk-toggleable__control sk-hidden--visually\" id=\"sk-estimator-id-2\" type=\"checkbox\" checked><label for=\"sk-estimator-id-2\" class=\"sk-toggleable__label sk-toggleable__label-arrow\">LogisticRegression</label><div class=\"sk-toggleable__content\"><pre>LogisticRegression(max_iter=10000)</pre></div></div></div></div></div>"
      ],
      "text/plain": [
       "LogisticRegression(max_iter=10000)"
      ]
     },
     "execution_count": 30,
     "metadata": {},
     "output_type": "execute_result"
    }
   ],
   "source": [
    "model = LogisticRegression(max_iter=10000)\n",
    "model.fit(x, y)"
   ]
  },
  {
   "cell_type": "code",
   "execution_count": 32,
   "id": "9a8f9e65",
   "metadata": {},
   "outputs": [],
   "source": [
    "ypred = model.predict(xte)"
   ]
  },
  {
   "cell_type": "code",
   "execution_count": 33,
   "id": "e728e1fe",
   "metadata": {},
   "outputs": [
    {
     "name": "stdout",
     "output_type": "stream",
     "text": [
      "error rate 32.57%\n"
     ]
    }
   ],
   "source": [
    "print(f\"error rate {(yte!=ypred).sum() / len(yte)*100:.2f}%\")"
   ]
  },
  {
   "cell_type": "code",
   "execution_count": 35,
   "id": "2b3b02f8",
   "metadata": {
    "scrolled": true
   },
   "outputs": [
    {
     "name": "stdout",
     "output_type": "stream",
     "text": [
      "              precision    recall  f1-score   support\n",
      "\n",
      "         0.0       0.59      0.92      0.72       534\n",
      "         1.0       0.87      0.47      0.61       639\n",
      "\n",
      "    accuracy                           0.67      1173\n",
      "   macro avg       0.73      0.69      0.67      1173\n",
      "weighted avg       0.75      0.67      0.66      1173\n",
      "\n"
     ]
    }
   ],
   "source": [
    "print(metrics.classification_report(yte, model.predict(xte)))"
   ]
  },
  {
   "cell_type": "code",
   "execution_count": 36,
   "id": "fb10ecfc",
   "metadata": {},
   "outputs": [
    {
     "data": {
      "text/plain": [
       "(1173,)"
      ]
     },
     "execution_count": 36,
     "metadata": {},
     "output_type": "execute_result"
    }
   ],
   "source": [
    "yte.shape"
   ]
  },
  {
   "cell_type": "code",
   "execution_count": 38,
   "id": "4cf03a0a",
   "metadata": {},
   "outputs": [
    {
     "name": "stdout",
     "output_type": "stream",
     "text": [
      "[[-0.211475    0.1623437  -0.5795479  ...  2.326193   -1.785257\n",
      "  -0.9319731 ]\n",
      " [ 0.3342283  -0.04692048 -0.7044258  ... -0.6256807   0.2051372\n",
      "  -2.39004   ]\n",
      " [ 0.5930117   0.517404   -0.07418718 ...  0.2753238  -1.822553\n",
      "  -0.7299724 ]\n",
      " ...\n",
      " [-0.3028085   0.2766473  -2.23679    ...  0.4939871  -0.2642972\n",
      "   0.708985  ]\n",
      " [ 1.458109    1.534579    1.276956   ...  2.118753   -0.04041978\n",
      "   1.130404  ]\n",
      " [ 0.3465033   1.584737    0.9288903  ...  1.104027   -0.03744733\n",
      "  -0.3114583 ]] [0. 1. 1. 1. 1. 1. 0. 1. 0. 1. 0. 1. 1. 0. 0. 1. 1. 1. 1. 1. 1. 1. 1. 1.\n",
      " 1. 1. 1. 1. 0. 1. 1. 1. 1. 1. 1. 1. 1. 1. 1. 0. 1. 1. 1. 1. 1. 0. 1. 1.\n",
      " 1. 1. 1. 1. 0. 0. 1. 1. 1. 1. 1. 1. 0. 1. 1. 0. 0. 1. 1. 1. 1. 1. 0. 0.\n",
      " 1. 1. 1. 0. 1. 0. 1. 0. 1. 1. 1. 1. 0. 0. 1. 1. 0. 1. 1. 1. 1. 1. 1. 0.\n",
      " 1. 0. 1. 0. 1. 1. 1. 0. 1. 1. 1. 1. 1. 1. 1. 0. 1. 0. 0. 0. 1. 0. 1. 0.\n",
      " 1. 0. 1. 1. 1. 1. 0. 1. 1. 1. 1. 1. 1. 1. 1. 1. 1. 1. 1. 1. 1. 1. 1. 1.\n",
      " 1. 0. 1. 1. 1. 1. 1. 1. 1. 1. 1. 1. 1. 1. 1. 1. 1. 1. 1. 1. 1. 1. 1. 1.\n",
      " 1. 1. 1. 1. 1. 1. 1. 1. 1. 1. 1. 1. 1. 1. 1. 1. 1. 1. 1. 1. 1. 1. 1. 1.\n",
      " 1. 1. 1. 1. 1. 1. 1. 1. 1. 1. 1. 1. 1. 1. 1. 0. 1. 1. 1. 1. 1. 1. 1. 1.\n",
      " 1. 1. 1. 1. 1. 1. 1. 1. 1. 1. 1. 1. 1. 1. 1. 1. 1. 1. 1. 1. 1. 1. 1. 1.\n",
      " 1. 1. 1. 1. 1. 1. 1. 1. 1. 1. 1. 1. 0. 1. 1. 1. 1. 1. 1. 0. 1. 1. 1. 1.\n",
      " 1. 1. 1. 1. 1. 1. 1. 1. 1. 1. 1. 1. 1. 1. 1. 1. 0. 1. 1. 1. 1. 1. 1. 1.\n",
      " 1. 1. 1. 1. 1. 1. 0. 1. 1. 1. 1. 1. 1. 1. 1. 1. 1. 1. 1. 1. 0. 1. 1. 1.\n",
      " 1. 1. 1. 1. 1. 1. 1. 1. 1. 1. 1. 1. 1. 1. 1. 1. 1. 1. 1. 1. 1. 1. 1. 1.\n",
      " 1. 1. 1. 1. 1. 1. 1. 1. 1. 1. 1. 1. 1. 1. 1. 1. 1. 1. 1. 1. 1. 1. 1. 1.\n",
      " 1. 1. 1. 0. 1. 1. 1. 0. 1. 1. 1. 1. 1. 1. 1. 1. 1. 1. 1. 1. 1. 1.] [1. 0. 0. 0. 0. 0. 1. 0. 1. 0. 1. 0. 0. 1. 1. 0. 0. 0. 0. 0. 0. 0. 0. 0.\n",
      " 0. 0. 0. 0. 1. 0. 0. 0. 0. 0. 0. 0. 0. 0. 0. 1. 0. 0. 0. 0. 0. 1. 0. 0.\n",
      " 0. 0. 0. 0. 1. 1. 0. 0. 0. 0. 0. 0. 1. 0. 0. 1. 1. 0. 0. 0. 0. 0. 1. 1.\n",
      " 0. 0. 0. 1. 0. 1. 0. 1. 0. 0. 0. 0. 1. 1. 0. 0. 1. 0. 0. 0. 0. 0. 0. 1.\n",
      " 0. 1. 0. 1. 0. 0. 0. 1. 0. 0. 0. 0. 0. 0. 0. 1. 0. 1. 1. 1. 0. 1. 0. 1.\n",
      " 0. 1. 0. 0. 0. 0. 1. 0. 0. 0. 0. 0. 0. 0. 0. 0. 0. 0. 0. 0. 0. 0. 0. 0.\n",
      " 0. 1. 0. 0. 0. 0. 0. 0. 0. 0. 0. 0. 0. 0. 0. 0. 0. 0. 0. 0. 0. 0. 0. 0.\n",
      " 0. 0. 0. 0. 0. 0. 0. 0. 0. 0. 0. 0. 0. 0. 0. 0. 0. 0. 0. 0. 0. 0. 0. 0.\n",
      " 0. 0. 0. 0. 0. 0. 0. 0. 0. 0. 0. 0. 0. 0. 0. 1. 0. 0. 0. 0. 0. 0. 0. 0.\n",
      " 0. 0. 0. 0. 0. 0. 0. 0. 0. 0. 0. 0. 0. 0. 0. 0. 0. 0. 0. 0. 0. 0. 0. 0.\n",
      " 0. 0. 0. 0. 0. 0. 0. 0. 0. 0. 0. 0. 1. 0. 0. 0. 0. 0. 0. 1. 0. 0. 0. 0.\n",
      " 0. 0. 0. 0. 0. 0. 0. 0. 0. 0. 0. 0. 0. 0. 0. 0. 1. 0. 0. 0. 0. 0. 0. 0.\n",
      " 0. 0. 0. 0. 0. 0. 1. 0. 0. 0. 0. 0. 0. 0. 0. 0. 0. 0. 0. 0. 1. 0. 0. 0.\n",
      " 0. 0. 0. 0. 0. 0. 0. 0. 0. 0. 0. 0. 0. 0. 0. 0. 0. 0. 0. 0. 0. 0. 0. 0.\n",
      " 0. 0. 0. 0. 0. 0. 0. 0. 0. 0. 0. 0. 0. 0. 0. 0. 0. 0. 0. 0. 0. 0. 0. 0.\n",
      " 0. 0. 0. 1. 0. 0. 0. 1. 0. 0. 0. 0. 0. 0. 0. 0. 0. 0. 0. 0. 0. 0.]\n"
     ]
    }
   ],
   "source": [
    "ypred = model.predict(xte)\n",
    "mask = yte != ypred\n",
    "print(xte[mask,:], yte[mask], ypred[mask])"
   ]
  }
 ],
 "metadata": {
  "kernelspec": {
   "display_name": "Python 3 (ipykernel)",
   "language": "python",
   "name": "python3"
  },
  "language_info": {
   "codemirror_mode": {
    "name": "ipython",
    "version": 3
   },
   "file_extension": ".py",
   "mimetype": "text/x-python",
   "name": "python",
   "nbconvert_exporter": "python",
   "pygments_lexer": "ipython3",
   "version": "3.9.13"
  }
 },
 "nbformat": 4,
 "nbformat_minor": 5
}
